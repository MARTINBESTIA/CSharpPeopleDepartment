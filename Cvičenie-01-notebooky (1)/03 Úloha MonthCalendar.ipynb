{
 "cells": [
  {
   "attachments": {},
   "cell_type": "markdown",
   "metadata": {},
   "source": [
    "# Úloha MonthCalendar"
   ]
  },
  {
   "attachments": {},
   "cell_type": "markdown",
   "metadata": {},
   "source": [
    "Vypíšte kalendár zobrazujúci dni v aktuálnom mesiaci:\n",
    "\n",
    "```\n",
    "marec 2023 \n",
    "po ut st št pi so ne\n",
    "27 28  1  2  3  4  5 \n",
    " 6  7  8  9 10 11 12 \n",
    "13 14 15 16 17 18 19 \n",
    "20 21 22 23 24 25 26 \n",
    "27 28 29 30 31  1  2 \n",
    "```\n",
    "\n",
    "Na prvý riadok vypíšte *názov mesiaca* a *rok*. <br>\n",
    "Na druhý riadok vypíšte *skratky dní* (pondelok až nedeľa). <br>\n",
    "Na nasledujúce riadky vypíšte *čísla dní* ako vidíte v ukážke vyššie. <br>\n",
    "\n",
    "Použiť pritom môžete nasledujúce metódy a vlastnosti štruktúry DateTime:"
   ]
  },
  {
   "cell_type": "code",
   "execution_count": 1,
   "metadata": {
    "dotnet_interactive": {
     "language": "csharp"
    },
    "polyglot_notebook": {
     "kernelName": "csharp"
    }
   },
   "outputs": [
    {
     "name": "stdout",
     "output_type": "stream",
     "text": [
      "Dnes je 17.1.2025, v tomto mesiaci je 31 dni.\n",
      "Dnes je Friday (skratka \"Fri\", hodnota z enumu: Friday, ciselna hodnota: 5).\n",
      "Dnes je 17. den v roku.\n",
      "Den: 17, mesiac: 1, rok: 2025\n",
      "Den: 17 (Fri, Friday), mesiac: 01 (Jan, January), rok: 2025 (25)\n",
      "\n",
      "Vcera bol(a) Thursday 16.01.2025 (16. den v roku).\n",
      "Zajtra bude Saturday 18.01.2025 (18. den v roku).\n",
      "Buduci mesiac je February, v mesiaci bude 28 dni.\n"
     ]
    }
   ],
   "source": [
    "var today = DateTime.Today;\n",
    "Console.WriteLine($\"Dnes je {today:d.M.yyyy}, v tomto mesiaci je {DateTime.DaysInMonth(today.Year, today.Month)} dni.\");\n",
    "Console.WriteLine($\"Dnes je {today:dddd} (skratka \\\"{today:ddd}\\\", hodnota z enumu: {today.DayOfWeek}, ciselna hodnota: {(int)today.DayOfWeek}).\");\n",
    "Console.WriteLine($\"Dnes je {today.DayOfYear}. den v roku.\");\n",
    "Console.WriteLine($\"Den: {today.Day}, mesiac: {today.Month}, rok: {today.Year}\");\n",
    "Console.WriteLine($\"Den: {today:dd} ({today:ddd}, {today:dddd}), mesiac: {today:MM} ({today:MMM}, {today:MMMM}), rok: {today:yyyy} ({today:yy})\");\n",
    "Console.WriteLine();\n",
    "\n",
    "var yesterday = today.AddDays(-1);\n",
    "Console.WriteLine($\"Vcera bol(a) {yesterday:dddd dd.MM.yyyy} ({yesterday.DayOfYear}. den v roku).\");\n",
    "\n",
    "var tomorrow = today.AddDays(1);\n",
    "Console.WriteLine($\"Zajtra bude {tomorrow:dddd dd.MM.yyyy} ({tomorrow.DayOfYear}. den v roku).\");\n",
    "\n",
    "var nextMonth = today.AddMonths(1);\n",
    "Console.WriteLine($\"Buduci mesiac je {nextMonth:MMMM}, v mesiaci bude {DateTime.DaysInMonth(nextMonth.Year, nextMonth.Month)} dni.\");"
   ]
  },
  {
   "attachments": {},
   "cell_type": "markdown",
   "metadata": {},
   "source": [
    "Vlastnosť `DayOfWeek` štruktúry `DateTime` dáva informáciu o dni. Hodnotou je enum (vymenovaný typ), ktorý je definovaný nasledovne:\n",
    "```csharp\n",
    "    public enum DayOfWeek {\n",
    "        Sunday = 0,\n",
    "        Monday = 1,\n",
    "        Tuesday = 2,\n",
    "        Wednesday = 3,\n",
    "        Thursday = 4,\n",
    "        Friday = 5,\n",
    "        Saturday = 6\n",
    "    }\n",
    "```\n",
    "\n",
    "https://learn.microsoft.com/en-us/dotnet/api/system.dayofweek"
   ]
  },
  {
   "cell_type": "code",
   "execution_count": null,
   "metadata": {
    "dotnet_interactive": {
     "language": "csharp"
    },
    "polyglot_notebook": {
     "kernelName": "csharp"
    }
   },
   "outputs": [],
   "source": [
    "var dayOfWeeks = Enum.GetValues<DayOfWeek>(); // Môžeme získať všetky hodnoty enumu DayOfWeek\n",
    "\n",
    "foreach (var dow in dayOfWeeks)\n",
    "{\n",
    "    Console.WriteLine($\"{dow} (ciselna hodnota: {(int)dow})\");    \n",
    "}"
   ]
  },
  {
   "cell_type": "code",
   "execution_count": 12,
   "metadata": {
    "dotnet_interactive": {
     "language": "csharp"
    },
    "polyglot_notebook": {
     "kernelName": "csharp"
    }
   },
   "outputs": [
    {
     "name": "stdout",
     "output_type": "stream",
     "text": [
      "marec 2023\n",
      "po ut st št pi so ne\n",
      " 5  6  7  8  9 10 11 \n",
      "12 13 14 15 16 17 18 \n",
      "19 20 21 22 23 24 25 \n",
      "26 27 28 29 30 31  1 \n",
      " 2  3  4  5  6  7  8 \n"
     ]
    }
   ],
   "source": [
    "var currentDay = new DateTime(2023, 3, 5); //DateTime.Today;\n",
    "Console.WriteLine($\"marec {currentDay.Year}\");\n",
    "Console.WriteLine(\"po ut st št pi so ne\");\n",
    "for (int i = 0; i < 5; i++) {\n",
    "    for (int e = 0; e < 7; e++) {\n",
    "        Console.Write($\"{currentDay.Day, 2} \");\n",
    "        currentDay = currentDay.AddDays(1);\n",
    "    }\n",
    "    Console.WriteLine();\n",
    "}"
   ]
  }
 ],
 "metadata": {
  "kernelspec": {
   "display_name": ".NET (C#)",
   "language": "C#",
   "name": ".net-csharp"
  },
  "language_info": {
   "name": "polyglot-notebook"
  },
  "polyglot_notebook": {
   "kernelInfo": {
    "defaultKernelName": "csharp",
    "items": [
     {
      "aliases": [],
      "name": ".NET"
     },
     {
      "aliases": [
       "C#",
       "c#"
      ],
      "languageName": "C#",
      "name": "csharp"
     },
     {
      "aliases": [
       "F#",
       "f#"
      ],
      "languageName": "F#",
      "name": "fsharp"
     },
     {
      "aliases": [],
      "languageName": "HTML",
      "name": "html"
     },
     {
      "aliases": [
       "js"
      ],
      "languageName": "JavaScript",
      "name": "javascript"
     },
     {
      "aliases": [],
      "languageName": "KQL",
      "name": "kql"
     },
     {
      "aliases": [],
      "languageName": "Mermaid",
      "name": "mermaid"
     },
     {
      "aliases": [
       "powershell"
      ],
      "languageName": "PowerShell",
      "name": "pwsh"
     },
     {
      "aliases": [],
      "languageName": "SQL",
      "name": "sql"
     },
     {
      "aliases": [],
      "name": "value"
     },
     {
      "aliases": [
       "frontend"
      ],
      "name": "vscode"
     },
     {
      "aliases": [],
      "name": "webview"
     }
    ]
   }
  }
 },
 "nbformat": 4,
 "nbformat_minor": 2
}
