{
 "cells": [
  {
   "attachments": {},
   "cell_type": "markdown",
   "metadata": {},
   "source": [
    "# Úloha: Formátovanie"
   ]
  },
  {
   "cell_type": "markdown",
   "metadata": {},
   "source": [
    "Upravte nasledujúci kód, aby výstup vyzeral nasledovne:\n",
    "```\n",
    "Meno a priezvisko          Vek  Predmet          Pocet bodov\n",
    "Peter NOVÁK                 20  Jazyk C# a .NET  91.52\n",
    "```"
   ]
  },
  {
   "cell_type": "code",
   "execution_count": 4,
   "metadata": {
    "dotnet_interactive": {
     "language": "csharp"
    },
    "polyglot_notebook": {
     "kernelName": "csharp"
    }
   },
   "outputs": [
    {
     "name": "stdout",
     "output_type": "stream",
     "text": [
      "Meno a priezvisko          Vek  Predmet          Pocet bodov\n",
      "Peter Novák                 20  Jazyk C# a .NET  91.5162\n"
     ]
    }
   ],
   "source": [
    "string firstName = \"Peter\";\n",
    "string lastName = \"Novák\";\n",
    "int age = 20;\n",
    "string subject = \"Jazyk C# a .NET\";\n",
    "float points = 91.5162f;\n",
    "\n",
    "Console.WriteLine(\"Meno a priezvisko          Vek  Predmet          Pocet bodov\");\n",
    "Console.WriteLine($\"{firstName} {lastName}{age,19}  {subject}  {points}\");\n"
   ]
  },
  {
   "cell_type": "markdown",
   "metadata": {},
   "source": [
    "Zobrazte \"graf\" teploty pomocou hviezdičiek nasledovne:\n",
    "```\n",
    "10°C: **********\n",
    "12°C: ************\n",
    "14°C: **************\n",
    "16°C: ****************\n",
    "18°C: ******************\n",
    "20°C: ********************\n",
    "22°C: **********************\n",
    "24°C: ************************\n",
    "22°C: **********************\n",
    "20°C: ********************\n",
    "18°C: ******************\n",
    "16°C: ****************  \n",
    "```"
   ]
  },
  {
   "cell_type": "code",
   "execution_count": 5,
   "metadata": {
    "dotnet_interactive": {
     "language": "csharp"
    },
    "polyglot_notebook": {
     "kernelName": "csharp"
    }
   },
   "outputs": [
    {
     "name": "stdout",
     "output_type": "stream",
     "text": [
      "10C: **********\n",
      "12C: ************\n",
      "14C: **************\n",
      "16C: ****************\n",
      "18C: ******************\n",
      "20C: ********************\n",
      "22C: **********************\n",
      "24C: ************************\n",
      "22C: **********************\n",
      "20C: ********************\n",
      "18C: ******************\n",
      "16C: ****************\n"
     ]
    }
   ],
   "source": [
    "int[] temperatures = { 10, 12, 14, 16, 18, 20, 22, 24, 22, 20, 18, 16 };\n",
    "\n",
    "// TODO: Doprogramujte\n",
    "for (int i = 0; i < temperatures.Length; i++)\n",
    "{\n",
    "    string s = new ('*', temperatures[i]);\n",
    "    Console.WriteLine($\"{temperatures[i]}C: {s}\");\n",
    "}"
   ]
  },
  {
   "cell_type": "markdown",
   "metadata": {},
   "source": [
    "Nasledujúci kód zobrazí súbory v aktuálnom priečinku:"
   ]
  },
  {
   "cell_type": "code",
   "execution_count": 6,
   "metadata": {
    "dotnet_interactive": {
     "language": "csharp"
    },
    "polyglot_notebook": {
     "kernelName": "csharp"
    }
   },
   "outputs": [
    {
     "name": "stdout",
     "output_type": "stream",
     "text": [
      "00 Trieda Console.ipynb\n",
      "Velkost: 19083 bajtov\n",
      "Dátum úprav: 1/17/2025 9:35:33 AM\n",
      "\n",
      "01 Úloha Formátovanie.ipynb\n",
      "Velkost: 5472 bajtov\n",
      "Dátum úprav: 1/17/2025 9:49:41 AM\n",
      "\n",
      "02 Úloha AsciiTable.ipynb\n",
      "Velkost: 3839 bajtov\n",
      "Dátum úprav: 1/15/2025 8:43:33 AM\n",
      "\n",
      "03 Úloha MonthCalendar.ipynb\n",
      "Velkost: 5290 bajtov\n",
      "Dátum úprav: 1/15/2025 8:43:33 AM\n",
      "\n"
     ]
    }
   ],
   "source": [
    "using System.IO;\n",
    "\n",
    "FileInfo[] files = new DirectoryInfo(Directory.GetCurrentDirectory()).GetFiles();\n",
    "foreach (FileInfo file in files)\n",
    "{\n",
    "    Console.WriteLine(file.Name);\n",
    "    Console.WriteLine($\"Velkost: {file.Length} bajtov\");\n",
    "    Console.WriteLine($\"Dátum úprav: {file.LastWriteTime}\");\n",
    "    Console.WriteLine();\n",
    "}"
   ]
  },
  {
   "cell_type": "markdown",
   "metadata": {},
   "source": [
    "Vykonajte bunku vyššie a následne doprogramujte kód nižšie, aby ste súbory vypísali v taktom formáte s použitím hlavičky s popisom Date, Size a Name:\n",
    "```\n",
    "Date             | Size       | Name\n",
    "------------------------------------------------------------\n",
    "22.02.2024 10:26 |      20055 | 00 Trieda Console.ipynb\n",
    "28.02.2023 22:33 |      18334 | 01 Úloha Formátovanie.ipynb\n",
    "28.02.2023 22:13 |       3994 | 02 Úloha AsciiTable.ipynb\n",
    "28.02.2023 22:10 |       5971 | 03 Úloha MonthCalendar.ipynb\n",
    "```"
   ]
  },
  {
   "cell_type": "code",
   "execution_count": 22,
   "metadata": {
    "dotnet_interactive": {
     "language": "csharp"
    },
    "polyglot_notebook": {
     "kernelName": "csharp"
    }
   },
   "outputs": [
    {
     "name": "stdout",
     "output_type": "stream",
     "text": [
      "Date             | Size       | Name\n",
      "17.1.2025  9:35  |      19083 | 00 Trieda Console.ipynb\n",
      "17.1.2025 10:33  |       7582 | 01 Úloha Formátovanie.ipynb\n",
      "15.1.2025  8:43  |       3839 | 02 Úloha AsciiTable.ipynb\n",
      "15.1.2025  8:43  |       5290 | 03 Úloha MonthCalendar.ipynb\n"
     ]
    }
   ],
   "source": [
    "Console.WriteLine($\"{\"Date\",-16} | {\"Size\",-10} | Name\");\n",
    "FileInfo[] files = new DirectoryInfo(Directory.GetCurrentDirectory()).GetFiles();\n",
    "foreach (FileInfo file in files) {\n",
    "    Console.Write($\"{file.LastAccessTime.Day}.{file.LastAccessTime.Month}.{file.LastAccessTime.Year} {file.LastAccessTime.Hour, 2}:{file.LastAccessTime.Minute, -1}  | \",file.LastAccessTime.Hour, file.LastAccessTime.Minute); \n",
    "    Console.Write($\"{file.Length,10}\",file.Length);\n",
    "    Console.Write(\" | \");\n",
    "    Console.Write($\"{file.Name,10}\",file.Name);\n",
    "    Console.WriteLine();\n",
    "}\n",
    "// TODO: Doprogramujte"
   ]
  }
 ],
 "metadata": {
  "kernelspec": {
   "display_name": ".NET (C#)",
   "language": "C#",
   "name": ".net-csharp"
  },
  "language_info": {
   "name": "polyglot-notebook"
  },
  "polyglot_notebook": {
   "kernelInfo": {
    "defaultKernelName": "csharp",
    "items": [
     {
      "aliases": [],
      "name": ".NET"
     },
     {
      "aliases": [
       "C#",
       "c#"
      ],
      "languageName": "C#",
      "name": "csharp"
     },
     {
      "aliases": [
       "F#",
       "f#"
      ],
      "languageName": "F#",
      "name": "fsharp"
     },
     {
      "aliases": [],
      "languageName": "HTML",
      "name": "html"
     },
     {
      "aliases": [],
      "languageName": "KQL",
      "name": "kql"
     },
     {
      "aliases": [],
      "languageName": "Mermaid",
      "name": "mermaid"
     },
     {
      "aliases": [
       "powershell"
      ],
      "languageName": "PowerShell",
      "name": "pwsh"
     },
     {
      "aliases": [],
      "languageName": "SQL",
      "name": "sql"
     },
     {
      "aliases": [],
      "name": "value"
     },
     {
      "aliases": [
       "frontend"
      ],
      "name": "vscode"
     }
    ]
   }
  }
 },
 "nbformat": 4,
 "nbformat_minor": 2
}
