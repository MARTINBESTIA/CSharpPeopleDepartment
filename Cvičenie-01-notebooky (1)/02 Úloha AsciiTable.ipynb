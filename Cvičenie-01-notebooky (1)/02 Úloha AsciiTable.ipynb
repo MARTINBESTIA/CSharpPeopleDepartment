{
 "cells": [
  {
   "attachments": {},
   "cell_type": "markdown",
   "metadata": {},
   "source": [
    "# Úloha AsciiTable"
   ]
  },
  {
   "attachments": {},
   "cell_type": "markdown",
   "metadata": {},
   "source": [
    "Vypíšte ASCII tabuľku od znaku s decimálnou hodnotou 32 po znak s decimálnou hodnotou 126, pričom na každom riadku zobrazte reprezentáciu jedného znaku ako:\n",
    "- Decimálne číslo na tri miesta (ak bude 1-ciferné číslo, doplnia sa 2 medzery, ak bude 2-ciferné číslo, doplní sa 1 medzera pred číslo)\n",
    "- Binárne číslo s naformátovaním na 7 miest\n",
    "- Oktálové číslo s naformátovaním na 3 miesta\n",
    "- Hexadecimálne číslo začínajúce na 0x\n",
    "- Znak\n",
    "\n",
    "``` \n",
    " 32 0100000 040 0x20  \n",
    " 33 0100001 041 0x21 !\n",
    " 34 0100010 042 0x22 \"\n",
    " 35 0100011 043 0x23 #\n",
    " 36 0100100 044 0x24 $\n",
    " ...\n",
    "124 1111100 174 0x7C |\n",
    "125 1111101 175 0x7D }\n",
    "126 1111110 176 0x7E ~\n",
    "```"
   ]
  },
  {
   "attachments": {},
   "cell_type": "markdown",
   "metadata": {},
   "source": [
    "Konkrétne číselné hodnoty môžete získať nasledovne:"
   ]
  },
  {
   "cell_type": "code",
   "execution_count": 1,
   "metadata": {
    "dotnet_interactive": {
     "language": "csharp"
    },
    "polyglot_notebook": {
     "kernelName": "csharp"
    }
   },
   "outputs": [
    {
     "name": "stdout",
     "output_type": "stream",
     "text": [
      "Decimalne cislo: 65\n",
      "Binarne cislo: 1000001\n",
      "Oktalove cislo: 101\n",
      "Hexadecimalne cislo: 0x41\n",
      "Znak: A\n"
     ]
    }
   ],
   "source": [
    "int number = 65;\n",
    "\n",
    "var binary = Convert.ToInt32(Convert.ToString(number, 2));\n",
    "var oct = Convert.ToInt32(Convert.ToString(number, 8));\n",
    "\n",
    "Console.WriteLine($\"Decimalne cislo: {number}\");\n",
    "Console.WriteLine($\"Binarne cislo: {binary}\");\n",
    "Console.WriteLine($\"Oktalove cislo: {oct}\");\n",
    "Console.WriteLine($\"Hexadecimalne cislo: 0x{number:X}\");\n",
    "Console.WriteLine($\"Znak: {(char)number}\");\n"
   ]
  },
  {
   "cell_type": "markdown",
   "metadata": {},
   "source": [
    "Vaše riešenie:"
   ]
  },
  {
   "cell_type": "code",
   "execution_count": 15,
   "metadata": {
    "dotnet_interactive": {
     "language": "csharp"
    },
    "polyglot_notebook": {
     "kernelName": "csharp"
    }
   },
   "outputs": [
    {
     "name": "stdout",
     "output_type": "stream",
     "text": [
      " 32 0100000 040 0x20  \n",
      " 33 0100001 041 0x21 !\n",
      " 34 0100010 042 0x22 \"\n",
      " 35 0100011 043 0x23 #\n",
      " 36 0100100 044 0x24 $\n",
      " 37 0100101 045 0x25 %\n",
      " 38 0100110 046 0x26 &\n",
      " 39 0100111 047 0x27 '\n",
      " 40 0101000 050 0x28 (\n",
      " 41 0101001 051 0x29 )\n",
      " 42 0101010 052 0x2A *\n",
      " 43 0101011 053 0x2B +\n",
      " 44 0101100 054 0x2C ,\n",
      " 45 0101101 055 0x2D -\n",
      " 46 0101110 056 0x2E .\n",
      " 47 0101111 057 0x2F /\n",
      " 48 0110000 060 0x30 0\n",
      " 49 0110001 061 0x31 1\n",
      " 50 0110010 062 0x32 2\n",
      " 51 0110011 063 0x33 3\n",
      " 52 0110100 064 0x34 4\n",
      " 53 0110101 065 0x35 5\n",
      " 54 0110110 066 0x36 6\n",
      " 55 0110111 067 0x37 7\n",
      " 56 0111000 070 0x38 8\n",
      " 57 0111001 071 0x39 9\n",
      " 58 0111010 072 0x3A :\n",
      " 59 0111011 073 0x3B ;\n",
      " 60 0111100 074 0x3C <\n",
      " 61 0111101 075 0x3D =\n",
      " 62 0111110 076 0x3E >\n",
      " 63 0111111 077 0x3F ?\n",
      " 64 1000000 100 0x40 @\n",
      " 65 1000001 101 0x41 A\n",
      " 66 1000010 102 0x42 B\n",
      " 67 1000011 103 0x43 C\n",
      " 68 1000100 104 0x44 D\n",
      " 69 1000101 105 0x45 E\n",
      " 70 1000110 106 0x46 F\n",
      " 71 1000111 107 0x47 G\n",
      " 72 1001000 110 0x48 H\n",
      " 73 1001001 111 0x49 I\n",
      " 74 1001010 112 0x4A J\n",
      " 75 1001011 113 0x4B K\n",
      " 76 1001100 114 0x4C L\n",
      " 77 1001101 115 0x4D M\n",
      " 78 1001110 116 0x4E N\n",
      " 79 1001111 117 0x4F O\n",
      " 80 1010000 120 0x50 P\n",
      " 81 1010001 121 0x51 Q\n",
      " 82 1010010 122 0x52 R\n",
      " 83 1010011 123 0x53 S\n",
      " 84 1010100 124 0x54 T\n",
      " 85 1010101 125 0x55 U\n",
      " 86 1010110 126 0x56 V\n",
      " 87 1010111 127 0x57 W\n",
      " 88 1011000 130 0x58 X\n",
      " 89 1011001 131 0x59 Y\n",
      " 90 1011010 132 0x5A Z\n",
      " 91 1011011 133 0x5B [\n",
      " 92 1011100 134 0x5C \\\n",
      " 93 1011101 135 0x5D ]\n",
      " 94 1011110 136 0x5E ^\n",
      " 95 1011111 137 0x5F _\n",
      " 96 1100000 140 0x60 `\n",
      " 97 1100001 141 0x61 a\n",
      " 98 1100010 142 0x62 b\n",
      " 99 1100011 143 0x63 c\n",
      "100 1100100 144 0x64 d\n",
      "101 1100101 145 0x65 e\n",
      "102 1100110 146 0x66 f\n",
      "103 1100111 147 0x67 g\n",
      "104 1101000 150 0x68 h\n",
      "105 1101001 151 0x69 i\n",
      "106 1101010 152 0x6A j\n",
      "107 1101011 153 0x6B k\n",
      "108 1101100 154 0x6C l\n",
      "109 1101101 155 0x6D m\n",
      "110 1101110 156 0x6E n\n",
      "111 1101111 157 0x6F o\n",
      "112 1110000 160 0x70 p\n",
      "113 1110001 161 0x71 q\n",
      "114 1110010 162 0x72 r\n",
      "115 1110011 163 0x73 s\n",
      "116 1110100 164 0x74 t\n",
      "117 1110101 165 0x75 u\n",
      "118 1110110 166 0x76 v\n",
      "119 1110111 167 0x77 w\n",
      "120 1111000 170 0x78 x\n",
      "121 1111001 171 0x79 y\n",
      "122 1111010 172 0x7A z\n",
      "123 1111011 173 0x7B {\n",
      "124 1111100 174 0x7C |\n",
      "125 1111101 175 0x7D }\n",
      "126 1111110 176 0x7E ~\n"
     ]
    }
   ],
   "source": [
    "\n",
    "\n",
    "int index = 32;\n",
    "while (index < 127) {\n",
    "    string binaryWithPadding = Convert.ToString(index, 2).PadLeft(7, '0');\n",
    "    string octWithPadding = Convert.ToString(index, 8).PadLeft(3, '0');\n",
    "    char c = Convert.ToChar(index);\n",
    "    Console.WriteLine($\"{index,3} {binaryWithPadding} {octWithPadding} 0x{index:X} {c}\");\n",
    "    index++;\n",
    "}\n"
   ]
  }
 ],
 "metadata": {
  "kernelspec": {
   "display_name": ".NET (C#)",
   "language": "C#",
   "name": ".net-csharp"
  },
  "language_info": {
   "name": "polyglot-notebook"
  },
  "polyglot_notebook": {
   "kernelInfo": {
    "defaultKernelName": "csharp",
    "items": [
     {
      "aliases": [],
      "name": ".NET"
     },
     {
      "aliases": [
       "C#",
       "c#"
      ],
      "languageName": "C#",
      "name": "csharp"
     },
     {
      "aliases": [
       "F#",
       "f#"
      ],
      "languageName": "F#",
      "name": "fsharp"
     },
     {
      "aliases": [],
      "languageName": "HTML",
      "name": "html"
     },
     {
      "aliases": [],
      "languageName": "KQL",
      "name": "kql"
     },
     {
      "aliases": [],
      "languageName": "Mermaid",
      "name": "mermaid"
     },
     {
      "aliases": [
       "powershell"
      ],
      "languageName": "PowerShell",
      "name": "pwsh"
     },
     {
      "aliases": [],
      "languageName": "SQL",
      "name": "sql"
     },
     {
      "aliases": [],
      "name": "value"
     },
     {
      "aliases": [
       "frontend"
      ],
      "name": "vscode"
     }
    ]
   }
  }
 },
 "nbformat": 4,
 "nbformat_minor": 2
}
